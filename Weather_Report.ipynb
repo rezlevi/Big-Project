{
  "nbformat": 4,
  "nbformat_minor": 0,
  "metadata": {
    "colab": {
      "provenance": [],
      "include_colab_link": true
    },
    "kernelspec": {
      "name": "python3",
      "display_name": "Python 3"
    },
    "language_info": {
      "name": "python"
    }
  },
  "cells": [
    {
      "cell_type": "markdown",
      "metadata": {
        "id": "view-in-github",
        "colab_type": "text"
      },
      "source": [
        "<a href=\"https://colab.research.google.com/github/rezlevi/Big-Project/blob/main/Weather_Report.ipynb\" target=\"_parent\"><img src=\"https://colab.research.google.com/assets/colab-badge.svg\" alt=\"Open In Colab\"/></a>"
      ]
    },
    {
      "cell_type": "markdown",
      "source": [
        "Plusz importálások:"
      ],
      "metadata": {
        "id": "2NmvPrzyHeZU"
      }
    },
    {
      "cell_type": "code",
      "source": [
        "from sklearn.metrics import mean_squared_error\n",
        "from google.colab import drive\n",
        "drive.mount('/content/drive')"
      ],
      "metadata": {
        "id": "MwoQaxWIGDiu",
        "colab": {
          "base_uri": "https://localhost:8080/"
        },
        "outputId": "00686837-6389-4d78-9690-0aab8e876dea"
      },
      "execution_count": null,
      "outputs": [
        {
          "output_type": "stream",
          "name": "stdout",
          "text": [
            "Mounted at /content/drive\n"
          ]
        }
      ]
    },
    {
      "cell_type": "markdown",
      "source": [
        "Drive munkamappa megadása:"
      ],
      "metadata": {
        "id": "wuR1wJzBGbO3"
      }
    },
    {
      "cell_type": "code",
      "source": [
        "path = ('/content/drive/MyDrive/afp1/ML Anyagok/') #drive mappa útvonala\n",
        "munkamappa = '/content/drive' + path"
      ],
      "metadata": {
        "id": "GhY3O9EgGiWN"
      },
      "execution_count": null,
      "outputs": []
    },
    {
      "cell_type": "markdown",
      "source": [
        "Adatok beolvasása:"
      ],
      "metadata": {
        "id": "ZDgrcgdjF-_J"
      }
    },
    {
      "cell_type": "code",
      "source": [
        "import pandas as pd\n",
        "csv_path = path + 'BP_d.csv'\n",
        "df = pd.read_csv(csv_path, sep=\";\")\n",
        "#df.head()"
      ],
      "metadata": {
        "id": "4SjHdhROHjai"
      },
      "execution_count": null,
      "outputs": []
    },
    {
      "cell_type": "markdown",
      "source": [
        "Nyersanyag statisztika:"
      ],
      "metadata": {
        "id": "e7LDqaVVH8wK"
      }
    },
    {
      "cell_type": "code",
      "source": [
        "#plot"
      ],
      "metadata": {
        "id": "9zZwFLbkIAS-"
      },
      "execution_count": null,
      "outputs": []
    },
    {
      "cell_type": "markdown",
      "source": [
        "Adathalmaz szűrése:"
      ],
      "metadata": {
        "id": "fcQV3ieTIENJ"
      }
    },
    {
      "cell_type": "code",
      "source": [
        "df_filtered = df[ [\"datum\", \"d_ta\", \"d_tx\", \"d_tn\"]]\n",
        "df_test = df_filtered[df_filtered[\"datum\"] > \"1979-12-31\"]\n",
        "df_train = df_filtered[df_filtered[\"datum\"] < \"1980-01-01\"]\n",
        "df_test.drop(columns='datum')\n",
        "df_train = df_train[[ \"d_ta\", \"d_tx\", \"d_tn\"]]\n",
        "\n",
        "\n",
        "#\n",
        "\n",
        "x_train = df_train.iloc[1: , :]\n",
        "y_train = df_train[[\"d_ta\"]]\n",
        "y_train = y_train.iloc[1: , :]\n",
        "\n",
        "y_train =y_train.to_numpy()\n",
        "x_train = x_train.to_numpy()\n"
      ],
      "metadata": {
        "id": "WvvKb7DaIH0T"
      },
      "execution_count": null,
      "outputs": []
    },
    {
      "cell_type": "markdown",
      "source": [
        "Adatok modelhez igazítása:"
      ],
      "metadata": {
        "id": "FUCy0FcYJ12r"
      }
    },
    {
      "cell_type": "code",
      "source": [
        "import numpy as np\n",
        "\n",
        "HISTS = [8, 10, 12]\n",
        "functions = ['tanh', 'sigmoid', 'relu']\n",
        "dropouts = [ 0.2, 0.3]\n",
        "\n",
        "HIST = 10\n",
        "func = 'tanh'\n",
        "dropout = 0.3\n",
        "epoch = 30\n",
        "\n",
        "train_x=(np.array([x_train[i:i+HIST] for i in range(len(x_train)-HIST)])-8)/40 \n",
        "train_y=(np.array([x_train[i+HIST] for i in range(len(x_train)-HIST)])-8)/40\n",
        "\n"
      ],
      "metadata": {
        "id": "pWq1AynSJ_qa"
      },
      "execution_count": null,
      "outputs": []
    },
    {
      "cell_type": "markdown",
      "source": [
        "Model trainingje, model adatainak lementése"
      ],
      "metadata": {
        "id": "Ka3Pt02LV_PQ"
      }
    },
    {
      "cell_type": "code",
      "source": [
        "import tensorflow as tf\n",
        "from keras.callbacks import CSVLogger\n",
        "#Uj model\n",
        "name_of_session = 'model_' + str(HIST) + \"_\" + func + \"_\" + str(dropout)\n",
        "logger_path = path + 'stats' + name_of_session + \".csv\"\n",
        "\n",
        "csv_logger = tf.keras.callbacks.CSVLogger(logger_path, separator=',', append=True)\n",
        "\n",
        "\n",
        "model = tf.keras.models.Sequential([\n",
        "  tf.keras.layers.Flatten(input_shape=(HIST, 3)),\n",
        "  tf.keras.layers.Dense(100, activation= func),\n",
        "  tf.keras.layers.Dense(50, activation= func),\n",
        "  tf.keras.layers.Dense(3, activation= func)\n",
        "])\n",
        "\n",
        "\n",
        "model.compile(optimizer='adam', loss='mean_squared_error', metrics=['accuracy'])\n",
        "model.fit(train_x, train_y, epochs=epoch,  callbacks=[csv_logger])\n",
        "model.save(path + name_of_session + \".h5\")"
      ],
      "metadata": {
        "id": "ZWbBO_XjWG5K",
        "colab": {
          "base_uri": "https://localhost:8080/"
        },
        "outputId": "9d72fcd2-53ea-454d-9d11-4e2c2f61399b"
      },
      "execution_count": null,
      "outputs": [
        {
          "output_type": "stream",
          "name": "stdout",
          "text": [
            "Epoch 1/2\n",
            "902/902 [==============================] - 3s 2ms/step - loss: 0.0041 - accuracy: 0.9924\n",
            "Epoch 2/2\n",
            "902/902 [==============================] - 2s 2ms/step - loss: 0.0035 - accuracy: 0.9998\n"
          ]
        }
      ]
    },
    {
      "cell_type": "code",
      "source": [
        "import tensorflow as tf\n",
        "#Model betoltessel\n",
        "\n",
        "name_of_session = 'model_' + str(HIST) + \"_\" + func + \"_\" + str(dropout)\n",
        "logger_path = path + 'stats' + name_of_session + \".csv\"\n",
        "\n",
        "csv_logger = tf.keras.callbacks.CSVLogger(logger_path, separator=',', append=True)\n",
        "\n",
        "model = tf.keras.models.load_model(path + \"model_10_tanh_0.3.h5\")\n",
        "\n",
        "model.compile(optimizer='adam', loss='mean_squared_error', metrics=['accuracy'])\n",
        "model.fit(train_x, train_y, epochs=epoch,  callbacks=[csv_logger])\n",
        "model.save(path + name_of_session + \".h5\")"
      ],
      "metadata": {
        "id": "C8_4F5NPjXRE"
      },
      "execution_count": null,
      "outputs": []
    },
    {
      "cell_type": "code",
      "source": [
        "import matplotlib.pyplot as plt"
      ],
      "metadata": {
        "id": "ibr7Vbi1qmyc"
      },
      "execution_count": 1,
      "outputs": []
    },
    {
      "cell_type": "code",
      "source": [
        "from google.colab import drive\n",
        "drive.mount('/content/drive')"
      ],
      "metadata": {
        "id": "kUn4gwQgqm86",
        "outputId": "be8ade98-a644-4bae-b5d5-aed108de3eac",
        "colab": {
          "base_uri": "https://localhost:8080/"
        }
      },
      "execution_count": 2,
      "outputs": [
        {
          "output_type": "stream",
          "name": "stdout",
          "text": [
            "Mounted at /content/drive\n"
          ]
        }
      ]
    },
    {
      "cell_type": "code",
      "source": [
        "epochs = [ i for i in range(50)]"
      ],
      "metadata": {
        "id": "S_ulTI6eqnEr"
      },
      "execution_count": 3,
      "outputs": []
    },
    {
      "cell_type": "code",
      "source": [
        "datas1=[row.strip().split(sep=\",\") for row in open(\"/content/drive/My Drive/Files/stats_model_8_relu_0.2.csv\")]\n",
        "losses1 = [ float(datas1[i][2]) for i in range(1,51)]\n",
        "plt.plot(epochs,losses1,\"r.\")\n",
        "datas2=[row.strip().split(sep=\",\") for row in open(\"/content/drive/My Drive/Files/stats_model_8_relu_0.25.csv\")]\n",
        "losses2= [ float(datas2[i][2]) for i in range(1,51)]\n",
        "plt.plot(epochs,losses2,\"b.\")\n",
        "datas3=[row.strip().split(sep=\",\") for row in open(\"/content/drive/My Drive/Files/stats_model_8_relu_0.3.csv\")]\n",
        "losses3 = [ float(datas3[i][2]) for i in range(1,51)]\n",
        "plt.plot(epochs,losses3,\"g.\")"
      ],
      "metadata": {
        "id": "vbindUk8qnHW",
        "outputId": "feb002f1-c6d8-4270-f6c4-01b511184558",
        "colab": {
          "base_uri": "https://localhost:8080/",
          "height": 282
        }
      },
      "execution_count": 6,
      "outputs": [
        {
          "output_type": "execute_result",
          "data": {
            "text/plain": [
              "[<matplotlib.lines.Line2D at 0x7ff617764ac0>]"
            ]
          },
          "metadata": {},
          "execution_count": 6
        },
        {
          "output_type": "display_data",
          "data": {
            "text/plain": [
              "<Figure size 432x288 with 1 Axes>"
            ],
            "image/png": "[encoded data removed]"
          },
          "metadata": {
            "needs_background": "light"
          }
        }
      ]
    },
    {
      "cell_type": "code",
      "source": [
        "datas1=[row.strip().split(sep=\",\") for row in open(\"/content/drive/My Drive/Files/stats_model_10_relu_0.2.csv\")]\n",
        "losses1 = [ float(datas1[i][2]) for i in range(1,51)]\n",
        "plt.plot(epochs,losses1,\"r.\")\n",
        "datas2=[row.strip().split(sep=\",\") for row in open(\"/content/drive/My Drive/Files/stats_model_10_relu_0.25.csv\")]\n",
        "losses2= [ float(datas2[i][2]) for i in range(1,51)]\n",
        "plt.plot(epochs,losses2,\"b.\")\n",
        "datas3=[row.strip().split(sep=\",\") for row in open(\"/content/drive/My Drive/Files/stats_model_10_relu_0.3.csv\")]\n",
        "losses3 = [ float(datas3[i][2]) for i in range(1,51)]\n",
        "plt.plot(epochs,losses3,\"g.\")"
      ],
      "metadata": {
        "id": "EXAR_2jHqnKY",
        "outputId": "8144cd1b-aede-4f7e-effb-156de6aa6e7b",
        "colab": {
          "base_uri": "https://localhost:8080/",
          "height": 282
        }
      },
      "execution_count": 7,
      "outputs": [
        {
          "output_type": "execute_result",
          "data": {
            "text/plain": [
              "[<matplotlib.lines.Line2D at 0x7ff6176d6070>]"
            ]
          },
          "metadata": {},
          "execution_count": 7
        },
        {
          "output_type": "display_data",
          "data": {
            "text/plain": [
              "<Figure size 432x288 with 1 Axes>"
            ],
            "image/png": "[encoded data removed]"
          },
          "metadata": {
            "needs_background": "light"
          }
        }
      ]
    },
    {
      "cell_type": "code",
      "source": [
        "datas1=[row.strip().split(sep=\",\") for row in open(\"/content/drive/My Drive/Files/stats_model_12_relu_0.2.csv\")]\n",
        "losses1 = [ float(datas1[i][2]) for i in range(1,51)]\n",
        "plt.plot(epochs,losses1,\"r.\")\n",
        "datas2=[row.strip().split(sep=\",\") for row in open(\"/content/drive/My Drive/Files/stats_model_12_relu_0.25.csv\")]\n",
        "losses2= [ float(datas2[i][2]) for i in range(1,51)]\n",
        "plt.plot(epochs,losses2,\"b.\")\n",
        "datas3=[row.strip().split(sep=\",\") for row in open(\"/content/drive/My Drive/Files/stats_model_12_relu_0.3.csv\")]\n",
        "losses3 = [ float(datas3[i][2]) for i in range(1,51)]\n",
        "plt.plot(epochs,losses3,\"g.\")"
      ],
      "metadata": {
        "id": "sHiBwfBqqnM4",
        "outputId": "4d824d2b-ebf6-48fe-f569-b2038ced6145",
        "colab": {
          "base_uri": "https://localhost:8080/",
          "height": 282
        }
      },
      "execution_count": 8,
      "outputs": [
        {
          "output_type": "execute_result",
          "data": {
            "text/plain": [
              "[<matplotlib.lines.Line2D at 0x7ff61762e940>]"
            ]
          },
          "metadata": {},
          "execution_count": 8
        },
        {
          "output_type": "display_data",
          "data": {
            "text/plain": [
              "<Figure size 432x288 with 1 Axes>"
            ],
            "image/png": "[encoded data removed]"
          },
          "metadata": {
            "needs_background": "light"
          }
        }
      ]
    },
    {
      "cell_type": "code",
      "source": [
        "datas1=[row.strip().split(sep=\",\") for row in open(\"/content/drive/My Drive/Files/stats_model_8_sigmoid_0.2.csv\")]\n",
        "losses1 = [ float(datas1[i][2]) for i in range(1,51)]\n",
        "plt.plot(epochs,losses1,\"r.\")\n",
        "datas2=[row.strip().split(sep=\",\") for row in open(\"/content/drive/My Drive/Files/stats_model_8_sigmoid_0.25.csv\")]\n",
        "losses2= [ float(datas2[i][2]) for i in range(1,51)]\n",
        "plt.plot(epochs,losses2,\"b.\")\n",
        "datas3=[row.strip().split(sep=\",\") for row in open(\"/content/drive/My Drive/Files/stats_model_8_sigmoid_0.3.csv\")]\n",
        "losses3 = [ float(datas3[i][2]) for i in range(1,51)]\n",
        "plt.plot(epochs,losses3,\"g.\")"
      ],
      "metadata": {
        "id": "kWF_fFD9qnP7",
        "outputId": "64918f55-ac48-4053-c635-c2d7a6139dab",
        "colab": {
          "base_uri": "https://localhost:8080/",
          "height": 286
        }
      },
      "execution_count": 9,
      "outputs": [
        {
          "output_type": "execute_result",
          "data": {
            "text/plain": [
              "[<matplotlib.lines.Line2D at 0x7ff61760c730>]"
            ]
          },
          "metadata": {},
          "execution_count": 9
        },
        {
          "output_type": "display_data",
          "data": {
            "text/plain": [
              "<Figure size 432x288 with 1 Axes>"
            ],
            "image/png": "[encoded data removed]"
          },
          "metadata": {
            "needs_background": "light"
          }
        }
      ]
    },
    {
      "cell_type": "code",
      "source": [
        "datas1=[row.strip().split(sep=\",\") for row in open(\"/content/drive/My Drive/Files/stats_model_10_sigmoid_0.2.csv\")]\n",
        "losses1 = [ float(datas1[i][2]) for i in range(1,51)]\n",
        "plt.plot(epochs,losses1,\"r.\")\n",
        "datas2=[row.strip().split(sep=\",\") for row in open(\"/content/drive/My Drive/Files/stats_model_10_sigmoid_0.25.csv\")]\n",
        "losses2= [ float(datas2[i][2]) for i in range(1,51)]\n",
        "plt.plot(epochs,losses2,\"b.\")\n",
        "datas3=[row.strip().split(sep=\",\") for row in open(\"/content/drive/My Drive/Files/stats_model_10_sigmoid_0.3.csv\")]\n",
        "losses3 = [ float(datas3[i][2]) for i in range(1,51)]\n",
        "plt.plot(epochs,losses3,\"g.\")"
      ],
      "metadata": {
        "id": "LS0LOJQsqnb-",
        "outputId": "48d305d2-1022-4d47-8217-f64500c8b0f3",
        "colab": {
          "base_uri": "https://localhost:8080/",
          "height": 282
        }
      },
      "execution_count": 10,
      "outputs": [
        {
          "output_type": "execute_result",
          "data": {
            "text/plain": [
              "[<matplotlib.lines.Line2D at 0x7ff617571100>]"
            ]
          },
          "metadata": {},
          "execution_count": 10
        },
        {
          "output_type": "display_data",
          "data": {
            "text/plain": [
              "<Figure size 432x288 with 1 Axes>"
            ],
            "image/png": "[encoded data removed]"
          },
          "metadata": {
            "needs_background": "light"
          }
        }
      ]
    },
    {
      "cell_type": "code",
      "source": [
        "datas1=[row.strip().split(sep=\",\") for row in open(\"/content/drive/My Drive/Files/stats_model_12_sigmoid_0.2.csv\")]\n",
        "losses1 = [ float(datas1[i][2]) for i in range(1,51)]\n",
        "plt.plot(epochs,losses1,\"r.\")\n",
        "datas2=[row.strip().split(sep=\",\") for row in open(\"/content/drive/My Drive/Files/stats_model_12_sigmoid_0.25.csv\")]\n",
        "losses2= [ float(datas2[i][2]) for i in range(1,51)]\n",
        "plt.plot(epochs,losses2,\"b.\")\n",
        "datas3=[row.strip().split(sep=\",\") for row in open(\"/content/drive/My Drive/Files/stats_model_12_sigmoid_0.3.csv\")]\n",
        "losses3 = [ float(datas3[i][2]) for i in range(1,51)]\n",
        "plt.plot(epochs,losses3,\"g.\")"
      ],
      "metadata": {
        "id": "-eT5QjlXqnej",
        "outputId": "49685b4a-cdcf-4640-b971-f84a880835ca",
        "colab": {
          "base_uri": "https://localhost:8080/",
          "height": 284
        }
      },
      "execution_count": 11,
      "outputs": [
        {
          "output_type": "execute_result",
          "data": {
            "text/plain": [
              "[<matplotlib.lines.Line2D at 0x7ff61754ae50>]"
            ]
          },
          "metadata": {},
          "execution_count": 11
        },
        {
          "output_type": "display_data",
          "data": {
            "text/plain": [
              "<Figure size 432x288 with 1 Axes>"
            ],
            "image/png": "[encoded data removed]"
          },
          "metadata": {
            "needs_background": "light"
          }
        }
      ]
    },
    {
      "cell_type": "code",
      "source": [
        "datas1=[row.strip().split(sep=\",\") for row in open(\"/content/drive/My Drive/Files/stats_model_8_tanh_0.2.csv\")]\n",
        "losses1 = [ float(datas1[i][2]) for i in range(1,51)]\n",
        "plt.plot(epochs,losses1,\"r.\")\n",
        "datas2=[row.strip().split(sep=\",\") for row in open(\"/content/drive/My Drive/Files/stats_model_8_tanh_0.25.csv\")]\n",
        "losses2= [ float(datas2[i][2]) for i in range(1,51)]\n",
        "plt.plot(epochs,losses2,\"b.\")\n",
        "datas3=[row.strip().split(sep=\",\") for row in open(\"/content/drive/My Drive/Files/stats_model_8_tanh_0.3.csv\")]\n",
        "losses3 = [ float(datas3[i][2]) for i in range(1,51)]\n",
        "plt.plot(epochs,losses3,\"g.\")"
      ],
      "metadata": {
        "id": "eR_5dMBhqnhW",
        "outputId": "524a3d1e-8a4e-4c3d-9d04-57e77e15617c",
        "colab": {
          "base_uri": "https://localhost:8080/",
          "height": 282
        }
      },
      "execution_count": 12,
      "outputs": [
        {
          "output_type": "execute_result",
          "data": {
            "text/plain": [
              "[<matplotlib.lines.Line2D at 0x7ff617734940>]"
            ]
          },
          "metadata": {},
          "execution_count": 12
        },
        {
          "output_type": "display_data",
          "data": {
            "text/plain": [
              "<Figure size 432x288 with 1 Axes>"
            ],
            "image/png": "[encoded data removed]"
          },
          "metadata": {
            "needs_background": "light"
          }
        }
      ]
    },
    {
      "cell_type": "code",
      "source": [
        "datas1=[row.strip().split(sep=\",\") for row in open(\"/content/drive/My Drive/Files/stats_model_10_tanh_0.2.csv\")]\n",
        "losses1 = [ float(datas1[i][2]) for i in range(1,51)]\n",
        "plt.plot(epochs,losses1,\"r.\")\n",
        "datas2=[row.strip().split(sep=\",\") for row in open(\"/content/drive/My Drive/Files/stats_model_10_tanh_0.25.csv\")]\n",
        "losses2= [ float(datas2[i][2]) for i in range(1,51)]\n",
        "plt.plot(epochs,losses2,\"b.\")\n",
        "datas3=[row.strip().split(sep=\",\") for row in open(\"/content/drive/My Drive/Files/stats_model_10_tanh_0.3.csv\")]\n",
        "losses3 = [ float(datas3[i][2]) for i in range(1,51)]\n",
        "plt.plot(epochs,losses3,\"g.\")"
      ],
      "metadata": {
        "id": "MT76o4vmqnjw",
        "outputId": "72db24c9-c181-490d-9011-26046d3b886f",
        "colab": {
          "base_uri": "https://localhost:8080/",
          "height": 282
        }
      },
      "execution_count": 13,
      "outputs": [
        {
          "output_type": "execute_result",
          "data": {
            "text/plain": [
              "[<matplotlib.lines.Line2D at 0x7ff6174e9580>]"
            ]
          },
          "metadata": {},
          "execution_count": 13
        },
        {
          "output_type": "display_data",
          "data": {
            "text/plain": [
              "<Figure size 432x288 with 1 Axes>"
            ],
            "image/png": "[encoded data removed]"
          },
          "metadata": {
            "needs_background": "light"
          }
        }
      ]
    },
    {
      "cell_type": "code",
      "source": [
        "datas1=[row.strip().split(sep=\",\") for row in open(\"/content/drive/My Drive/Files/stats_model_12_tanh_0.2.csv\")]\n",
        "losses1 = [ float(datas1[i][2]) for i in range(1,51)]\n",
        "plt.plot(epochs,losses1,\"r.\")\n",
        "datas2=[row.strip().split(sep=\",\") for row in open(\"/content/drive/My Drive/Files/stats_model_12_tanh_0.25.csv\")]\n",
        "losses2= [ float(datas2[i][2]) for i in range(1,51)]\n",
        "plt.plot(epochs,losses2,\"b.\")\n",
        "datas3=[row.strip().split(sep=\",\") for row in open(\"/content/drive/My Drive/Files/stats_model_12_tanh_0.3.csv\")]\n",
        "losses3 = [ float(datas3[i][2]) for i in range(1,51)]\n",
        "plt.plot(epochs,losses3,\"g.\")"
      ],
      "metadata": {
        "id": "gaZ-VwLGqnm9",
        "outputId": "181d93b1-2d6c-4622-93c3-90b64cab2488",
        "colab": {
          "base_uri": "https://localhost:8080/",
          "height": 282
        }
      },
      "execution_count": 14,
      "outputs": [
        {
          "output_type": "execute_result",
          "data": {
            "text/plain": [
              "[<matplotlib.lines.Line2D at 0x7ff6174a1310>]"
            ]
          },
          "metadata": {},
          "execution_count": 14
        },
        {
          "output_type": "display_data",
          "data": {
            "text/plain": [
              "<Figure size 432x288 with 1 Axes>"
            ],
            "image/png": "[encoded data removed]"
          },
          "metadata": {
            "needs_background": "light"
          }
        }
      ]
    }
  ]
}