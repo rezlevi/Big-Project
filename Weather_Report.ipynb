{
  "nbformat": 4,
  "nbformat_minor": 0,
  "metadata": {
    "colab": {
      "provenance": [],
      "authorship_tag": "ABX9TyMFXW6Y9eMpVPTE7b+lqDzR",
      "include_colab_link": true
    },
    "kernelspec": {
      "name": "python3",
      "display_name": "Python 3"
    },
    "language_info": {
      "name": "python"
    }
  },
  "cells": [
    {
      "cell_type": "markdown",
      "metadata": {
        "id": "view-in-github",
        "colab_type": "text"
      },
      "source": [
        "<a href=\"https://colab.research.google.com/github/rezlevi/Big-Project/blob/main/Weather_Report.ipynb\" target=\"_parent\"><img src=\"https://colab.research.google.com/assets/colab-badge.svg\" alt=\"Open In Colab\"/></a>"
      ]
    },
    {
      "cell_type": "markdown",
      "source": [
        "Plusz importálások:"
      ],
      "metadata": {
        "id": "2NmvPrzyHeZU"
      }
    },
    {
      "cell_type": "code",
      "source": [
        "from sklearn.metrics import mean_squared_error\n",
        "from google.colab import drive\n",
        "drive.mount('/content/drive')"
      ],
      "metadata": {
        "id": "MwoQaxWIGDiu",
        "colab": {
          "base_uri": "https://localhost:8080/"
        },
        "outputId": "00686837-6389-4d78-9690-0aab8e876dea"
      },
      "execution_count": 1,
      "outputs": [
        {
          "output_type": "stream",
          "name": "stdout",
          "text": [
            "Mounted at /content/drive\n"
          ]
        }
      ]
    },
    {
      "cell_type": "markdown",
      "source": [
        "Drive munkamappa megadása:"
      ],
      "metadata": {
        "id": "wuR1wJzBGbO3"
      }
    },
    {
      "cell_type": "code",
      "source": [
        "path = ('/content/drive/MyDrive/afp1/ML Anyagok/') #drive mappa útvonala\n",
        "munkamappa = '/content/drive' + path"
      ],
      "metadata": {
        "id": "GhY3O9EgGiWN"
      },
      "execution_count": 2,
      "outputs": []
    },
    {
      "cell_type": "markdown",
      "source": [
        "Adatok beolvasása:"
      ],
      "metadata": {
        "id": "ZDgrcgdjF-_J"
      }
    },
    {
      "cell_type": "code",
      "source": [
        "import pandas as pd\n",
        "csv_path = path + 'BP_d.csv'\n",
        "df = pd.read_csv(csv_path, sep=\";\")\n",
        "#df.head()"
      ],
      "metadata": {
        "id": "4SjHdhROHjai"
      },
      "execution_count": 3,
      "outputs": []
    },
    {
      "cell_type": "markdown",
      "source": [
        "Nyersanyag statisztika:"
      ],
      "metadata": {
        "id": "e7LDqaVVH8wK"
      }
    },
    {
      "cell_type": "code",
      "source": [
        "#plot"
      ],
      "metadata": {
        "id": "9zZwFLbkIAS-"
      },
      "execution_count": null,
      "outputs": []
    },
    {
      "cell_type": "markdown",
      "source": [
        "Adathalmaz szűrése:"
      ],
      "metadata": {
        "id": "fcQV3ieTIENJ"
      }
    },
    {
      "cell_type": "code",
      "source": [
        "df_filtered = df[ [\"datum\", \"d_ta\", \"d_tx\", \"d_tn\"]]\n",
        "df_test = df_filtered[df_filtered[\"datum\"] > \"1979-12-31\"]\n",
        "df_train = df_filtered[df_filtered[\"datum\"] < \"1980-01-01\"]\n",
        "df_test.drop(columns='datum')\n",
        "df_train = df_train[[ \"d_ta\", \"d_tx\", \"d_tn\"]]\n",
        "\n",
        "\n",
        "#\n",
        "\n",
        "x_train = df_train.iloc[1: , :]\n",
        "y_train = df_train[[\"d_ta\"]]\n",
        "y_train = y_train.iloc[1: , :]\n",
        "\n",
        "y_train =y_train.to_numpy()\n",
        "x_train = x_train.to_numpy()\n"
      ],
      "metadata": {
        "id": "WvvKb7DaIH0T"
      },
      "execution_count": 4,
      "outputs": []
    },
    {
      "cell_type": "markdown",
      "source": [
        "Adatok modelhez igazítása:"
      ],
      "metadata": {
        "id": "FUCy0FcYJ12r"
      }
    },
    {
      "cell_type": "code",
      "source": [
        "import numpy as np\n",
        "\n",
        "HISTS = [8, 10, 12]\n",
        "functions = ['tanh', 'sigmoid', 'relu']\n",
        "dropouts = [ 0.2, 0.3]\n",
        "\n",
        "HIST = 10\n",
        "func = 'tanh'\n",
        "dropout = 0.3\n",
        "epoch = 30\n",
        "\n",
        "train_x=(np.array([x_train[i:i+HIST] for i in range(len(x_train)-HIST)])-8)/40 \n",
        "train_y=(np.array([x_train[i+HIST] for i in range(len(x_train)-HIST)])-8)/40\n",
        "\n"
      ],
      "metadata": {
        "id": "pWq1AynSJ_qa"
      },
      "execution_count": 5,
      "outputs": []
    },
    {
      "cell_type": "markdown",
      "source": [
        "Model trainingje, model adatainak lementése"
      ],
      "metadata": {
        "id": "Ka3Pt02LV_PQ"
      }
    },
    {
      "cell_type": "code",
      "source": [
        "import tensorflow as tf\n",
        "from keras.callbacks import CSVLogger\n",
        "#Uj model\n",
        "name_of_session = 'model_' + str(HIST) + \"_\" + func + \"_\" + str(dropout)\n",
        "logger_path = path + 'stats' + name_of_session + \".csv\"\n",
        "\n",
        "csv_logger = tf.keras.callbacks.CSVLogger(logger_path, separator=',', append=True)\n",
        "\n",
        "\n",
        "model = tf.keras.models.Sequential([\n",
        "  tf.keras.layers.Flatten(input_shape=(HIST, 3)),\n",
        "  tf.keras.layers.Dense(100, activation= func),\n",
        "  tf.keras.layers.Dense(50, activation= func),\n",
        "  tf.keras.layers.Dense(3, activation= func)\n",
        "])\n",
        "\n",
        "\n",
        "model.compile(optimizer='adam', loss='mean_squared_error', metrics=['accuracy'])\n",
        "model.fit(train_x, train_y, epochs=epoch,  callbacks=[csv_logger])\n",
        "model.save(path + name_of_session + \".h5\")"
      ],
      "metadata": {
        "id": "ZWbBO_XjWG5K",
        "colab": {
          "base_uri": "https://localhost:8080/"
        },
        "outputId": "9d72fcd2-53ea-454d-9d11-4e2c2f61399b"
      },
      "execution_count": 16,
      "outputs": [
        {
          "output_type": "stream",
          "name": "stdout",
          "text": [
            "Epoch 1/2\n",
            "902/902 [==============================] - 3s 2ms/step - loss: 0.0041 - accuracy: 0.9924\n",
            "Epoch 2/2\n",
            "902/902 [==============================] - 2s 2ms/step - loss: 0.0035 - accuracy: 0.9998\n"
          ]
        }
      ]
    },
    {
      "cell_type": "code",
      "source": [
        "import tensorflow as tf\n",
        "#Model betoltessel\n",
        "\n",
        "name_of_session = 'model_' + str(HIST) + \"_\" + func + \"_\" + str(dropout)\n",
        "logger_path = path + 'stats' + name_of_session + \".csv\"\n",
        "\n",
        "csv_logger = tf.keras.callbacks.CSVLogger(logger_path, separator=',', append=True)\n",
        "\n",
        "model = tf.keras.models.load_model(path + \"model_10_tanh_0.3.h5\")\n",
        "\n",
        "model.compile(optimizer='adam', loss='mean_squared_error', metrics=['accuracy'])\n",
        "model.fit(train_x, train_y, epochs=epoch,  callbacks=[csv_logger])\n",
        "model.save(path + name_of_session + \".h5\")"
      ],
      "metadata": {
        "id": "C8_4F5NPjXRE"
      },
      "execution_count": null,
      "outputs": []
    }
  ]
}