{
  "cells": [
    {
      "cell_type": "markdown",
      "metadata": {
        "id": "view-in-github",
        "colab_type": "text"
      },
      "source": [
        "<a href=\"https://colab.research.google.com/github/rezlevi/Big-Project/blob/main/testprogram.ipynb\" target=\"_parent\"><img src=\"https://colab.research.google.com/assets/colab-badge.svg\" alt=\"Open In Colab\"/></a>"
      ]
    },
    {
      "cell_type": "code",
      "execution_count": null,
      "metadata": {
        "colab": {
          "base_uri": "https://localhost:8080/"
        },
        "id": "hyhdhHUA95lJ",
        "outputId": "e058c94d-8b49-4c7c-ddb8-e6551525c58e"
      },
      "outputs": [
        {
          "output_type": "stream",
          "name": "stdout",
          "text": [
            "Drive already mounted at /content/drive; to attempt to forcibly remount, call drive.mount(\"/content/drive\", force_remount=True).\n"
          ]
        }
      ],
      "source": [
        "from google.colab import drive\n",
        "from sklearn.metrics import mean_squared_error\n",
        "from statistics import mean\n",
        "import random\n",
        "import tensorflow as tf\n",
        "drive.mount('/content/drive')"
      ]
    },
    {
      "cell_type": "code",
      "execution_count": null,
      "metadata": {
        "id": "icDsO79qDkW8"
      },
      "outputs": [],
      "source": [
        "COLS = 3\n",
        "adatok_nyers=[sor.strip().split(sep=\";\") for sor in open(\"/content/drive/My Drive/datas.txt\")]\n",
        "adatok = []\n",
        "for i in range(1,len(adatok_nyers)):\n",
        "  adatok.append([float(adatok_nyers[i][1]), float(adatok_nyers[i][2]), float(adatok_nyers[i][3])])"
      ]
    },
    {
      "cell_type": "code",
      "execution_count": null,
      "metadata": {
        "id": "nn6Jp7ozDeY1"
      },
      "outputs": [],
      "source": [
        "train=adatok[:20000]\n",
        "test=adatok[20000:25000]"
      ]
    },
    {
      "cell_type": "code",
      "source": [
        "def network1(HIST, func1, func2, dropout):\n",
        "  print('train with tensorflow')\n",
        "  model = tf.keras.models.Sequential([\n",
        "    tf.keras.layers.Flatten(input_shape=(HIST, COLS)),\n",
        "    tf.keras.layers.Dense(100, activation= func1),\n",
        "    tf.keras.layers.Dropout(dropout),\n",
        "    tf.keras.layers.Dense(50, activation = 'tanh'),\n",
        "    tf.keras.layers.Dropout(dropout),\n",
        "    tf.keras.layers.Dense(COLS, activation= func2)\n",
        "  ])\n",
        "\n",
        "  model.compile(optimizer='adam', loss='mean_squared_error', metrics=['accuracy'])\n",
        "\n",
        "  mselst=[]\n",
        "  for _ in range(50):\n",
        "    model.fit(train_x, train_y, epochs=1)\n",
        "    y=model.predict(test_x)\n",
        "    print('prediction MSE:', mean_squared_error(test_y, y))\n",
        "    print('dummy MSE:', mean_squared_error(test_y[HIST:], test_y[HIST-1:-1]))\n",
        "    mselst.append(mean_squared_error(test_y, y))\n",
        "  return mselst"
      ],
      "metadata": {
        "id": "_IR3vhwsefwF"
      },
      "execution_count": null,
      "outputs": []
    },
    {
      "cell_type": "code",
      "source": [
        "def network2(HIST, func1, func2, dropout):\n",
        "  print('train with tensorflow')\n",
        "  model = tf.keras.models.Sequential([\n",
        "    tf.keras.layers.LSTM(units=50, return_sequences=True,input_shape=(HIST,3), activation = func1),\n",
        "    tf.keras.layers.Dropout(dropout),\n",
        "    tf.keras.layers.LSTM(units=50, activation='tanh'),\n",
        "    tf.keras.layers.Dropout(dropout),\n",
        "    tf.keras.layers.Dense(COLS, activation=func2)\n",
        "  ])\n",
        "\n",
        "  model.compile(optimizer='adam', loss='mean_squared_error', metrics=['accuracy'])\n",
        "\n",
        "  mselst=[]\n",
        "  for _ in range(50):\n",
        "    model.fit(train_x, train_y, epochs=1)\n",
        "    y=model.predict(test_x)\n",
        "    print('prediction MSE:', mean_squared_error(test_y, y))\n",
        "    print('dummy MSE:', mean_squared_error(test_y[HIST:], test_y[HIST-1:-1]))\n",
        "    mselst.append(mean_squared_error(test_y, y))\n",
        "  return mselst"
      ],
      "metadata": {
        "id": "vdlL_YyFef46"
      },
      "execution_count": null,
      "outputs": []
    },
    {
      "cell_type": "code",
      "source": [
        "networks = [network1,network2]"
      ],
      "metadata": {
        "id": "8QnMtbbwegCR"
      },
      "execution_count": null,
      "outputs": []
    },
    {
      "cell_type": "code",
      "source": [
        "HISTS = [8,10,12]"
      ],
      "metadata": {
        "id": "K1RiocfROm9N"
      },
      "execution_count": null,
      "outputs": []
    },
    {
      "cell_type": "code",
      "source": [
        "functions = ['tanh','sigmoid','relu']"
      ],
      "metadata": {
        "id": "gm8YaCKgOnTE"
      },
      "execution_count": null,
      "outputs": []
    },
    {
      "cell_type": "code",
      "source": [
        "dropouts = [0.1, 0.2, 0.3]"
      ],
      "metadata": {
        "id": "s5k1xKEtOndr"
      },
      "execution_count": null,
      "outputs": []
    },
    {
      "cell_type": "code",
      "source": [
        "mselsts = []\n",
        "for i in range(len(networks)):\n",
        "  for j in range(len(HISTS)):\n",
        "    HIST = HISTS[j]\n",
        "    import numpy as np\n",
        "    train_x=(np.array([ train[i:i+HIST] for i in range(len(train)-HIST)])-8)/40\n",
        "    test_x=(np.array([ test[i:i+HIST] for i in range(len(test)-HIST)])-8)/40\n",
        "    train_y=(np.array([ train[i+HIST] for i in range(len(train)-HIST)])-8)/40\n",
        "    test_y=(np.array([ test[i+HIST] for i in range(len(test)-HIST)])-8)/40\n",
        "    for k in range(len(functions)):\n",
        "      for l in range(len(functions)):\n",
        "        for m in range(len(dropouts)):\n",
        "          mselsts.append([i, HISTS[j], functions[k], functions[l], dropouts[m]],networks[i](HISTS[j],functions[k], functions[l],dropouts[m]))"
      ],
      "metadata": {
        "id": "sIGjSftvhD7W"
      },
      "execution_count": null,
      "outputs": []
    }
  ],
  "metadata": {
    "colab": {
      "provenance": [],
      "authorship_tag": "ABX9TyOT797MC740gIcHwWmRbdtz",
      "include_colab_link": true
    },
    "kernelspec": {
      "display_name": "Python 3",
      "name": "python3"
    },
    "language_info": {
      "name": "python"
    }
  },
  "nbformat": 4,
  "nbformat_minor": 0
}