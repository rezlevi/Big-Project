{
  "cells": [
    {
      "cell_type": "markdown",
      "metadata": {
        "id": "view-in-github",
        "colab_type": "text"
      },
      "source": [
        "<a href=\"https://colab.research.google.com/github/rezlevi/Big-Project/blob/main/testprogram.ipynb\" target=\"_parent\"><img src=\"https://colab.research.google.com/assets/colab-badge.svg\" alt=\"Open In Colab\"/></a>"
      ]
    },
    {
      "cell_type": "code",
      "execution_count": null,
      "metadata": {
        "colab": {
          "base_uri": "https://localhost:8080/"
        },
        "id": "hyhdhHUA95lJ",
        "outputId": "00151e25-f528-4846-e102-b5277aa5218d"
      },
      "outputs": [
        {
          "output_type": "stream",
          "name": "stdout",
          "text": [
            "Drive already mounted at /content/drive; to attempt to forcibly remount, call drive.mount(\"/content/drive\", force_remount=True).\n"
          ]
        }
      ],
      "source": [
        "from google.colab import drive\n",
        "from sklearn.metrics import mean_squared_error\n",
        "from statistics import mean\n",
        "import random\n",
        "import tensorflow as tf\n",
        "drive.mount('/content/drive')"
      ]
    },
    {
      "cell_type": "code",
      "execution_count": null,
      "metadata": {
        "id": "icDsO79qDkW8"
      },
      "outputs": [],
      "source": [
        "HIST = 10\n",
        "COLS = 4\n",
        "adatok_nyers=[sor.strip().split(sep=\";\") for sor in open(\"/content/drive/My Drive/BP_d.csv.txt\")]\n",
        "adatok = []\n",
        "for i in range(1,len(adatok_nyers)):\n",
        "  adatok.append([float(adatok_nyers[i][1]), float(adatok_nyers[i][2]), float(adatok_nyers[i][3]), float(float(adatok_nyers[i][2]) - float(adatok_nyers[i][3])) ])"
      ]
    },
    {
      "cell_type": "code",
      "execution_count": null,
      "metadata": {
        "id": "nn6Jp7ozDeY1"
      },
      "outputs": [],
      "source": [
        "train=adatok[:20000]\n",
        "test=adatok[20000:25000]"
      ]
    },
    {
      "cell_type": "code",
      "execution_count": null,
      "metadata": {
        "id": "dY33DWFJHBW2",
        "colab": {
          "base_uri": "https://localhost:8080/"
        },
        "outputId": "2b7e3067-ca04-40d9-b260-a66314ea2fca"
      },
      "outputs": [
        {
          "output_type": "stream",
          "name": "stdout",
          "text": [
            "[[-0.3425 -0.21   -0.43    0.02  ]\n",
            " [-0.4325 -0.365  -0.4825 -0.0825]\n",
            " [-0.4275 -0.365  -0.47   -0.095 ]\n",
            " [-0.475  -0.445  -0.51   -0.135 ]\n",
            " [-0.4775 -0.425  -0.5875 -0.0375]\n",
            " [-0.4    -0.35   -0.545  -0.005 ]\n",
            " [-0.3375 -0.275  -0.3725 -0.1025]\n",
            " [-0.45   -0.3475 -0.51   -0.0375]\n",
            " [-0.5025 -0.425  -0.5975 -0.0275]\n",
            " [-0.505  -0.445  -0.6225 -0.0225]]\n",
            "[-0.4325 -0.39   -0.5375 -0.0525]\n"
          ]
        }
      ],
      "source": [
        "import numpy as np\n",
        "train_x=(np.array([ train[i:i+HIST] for i in range(len(train)-HIST)])-8)/40\n",
        "test_x=(np.array([ test[i:i+HIST] for i in range(len(test)-HIST)])-8)/40\n",
        "train_y=(np.array([ train[i+HIST] for i in range(len(train)-HIST)])-8)/40\n",
        "test_y=(np.array([ test[i+HIST] for i in range(len(test)-HIST)])-8)/40\n",
        "\n",
        "\n",
        "print(train_x[0])\n",
        "print(train_y[0])"
      ]
    },
    {
      "cell_type": "code",
      "execution_count": null,
      "metadata": {
        "id": "wY4_CRLaa8CE"
      },
      "outputs": [],
      "source": [
        "functions = ['tanh', 'sigmoid', 'exponential', 'hard_sigmoid', 'linear', 'relu']"
      ]
    },
    {
      "cell_type": "code",
      "execution_count": null,
      "metadata": {
        "id": "2UNqnMoZHWy0"
      },
      "outputs": [],
      "source": [
        "def train1(func): ##with the same function\n",
        "  print('train with tensorflow')\n",
        "  model = tf.keras.models.Sequential([\n",
        "    tf.keras.layers.Flatten(input_shape=(HIST,COLS)),\n",
        "    tf.keras.layers.Dense(100, activation= func),\n",
        "    tf.keras.layers.Dense(50, activation= func),\n",
        "    tf.keras.layers.Dense(COLS, activation= func)\n",
        "  ])\n",
        "\n",
        "  model.compile(optimizer='adam', loss='mean_squared_error', metrics=['accuracy'])\n",
        "\n",
        "  mselst=[]\n",
        "  for _ in range(50):\n",
        "    model.fit(train_x, train_y, epochs=1)\n",
        "    y=model.predict(test_x)\n",
        "    print('prediction MSE:', mean_squared_error(test_y, y))\n",
        "    print('dummy MSE:', mean_squared_error(test_y[HIST:], test_y[HIST-1:-1]))\n",
        "    mselst.append(mean_squared_error(test_y, y))\n",
        "  return mean(mselst)"
      ]
    },
    {
      "cell_type": "code",
      "source": [
        "def train2(func1,func2,func3): ##with different functions\n",
        "  print('train with tensorflow')\n",
        "  model = tf.keras.models.Sequential([\n",
        "    tf.keras.layers.Flatten(input_shape=(HIST,COLS)),\n",
        "    tf.keras.layers.Dense(100, activation= func1),\n",
        "    tf.keras.layers.Dense(50, activation= func2),\n",
        "    tf.keras.layers.Dense(COLS, activation= func3)\n",
        "  ])\n",
        "\n",
        "  model.compile(optimizer='adam', loss='mean_squared_error', metrics=['accuracy'])\n",
        "\n",
        "  mselst=[]\n",
        "  for _ in range(50):\n",
        "    model.fit(train_x, train_y, epochs=1)\n",
        "    y=model.predict(test_x)\n",
        "    print('prediction MSE:', mean_squared_error(test_y, y))\n",
        "    print('dummy MSE:', mean_squared_error(test_y[HIST:], test_y[HIST-1:-1]))\n",
        "    mselst.append(mean_squared_error(test_y, y))\n",
        "  return mean(mselst)"
      ],
      "metadata": {
        "id": "oH87BlQD9RuR"
      },
      "execution_count": null,
      "outputs": []
    },
    {
      "cell_type": "code",
      "source": [
        "def train3(x,y): \n",
        "  print('train with tensorflow')\n",
        "  model = tf.keras.models.Sequential([\n",
        "    tf.keras.layers.Flatten(input_shape=(HIST,COLS)),\n",
        "    tf.keras.layers.Dense(x, activation= 'tanh'),\n",
        "    tf.keras.layers.Dense(y, activation= 'relu'),\n",
        "    tf.keras.layers.Dense(COLS, activation= 'tanh')\n",
        "  ])\n",
        "\n",
        "  model.compile(optimizer='adam', loss='mean_squared_error', metrics=['accuracy'])\n",
        "\n",
        "  mselst=[]\n",
        "  for _ in range(50):\n",
        "    model.fit(train_x, train_y, epochs=1)\n",
        "    y=model.predict(test_x)\n",
        "    print('prediction MSE:', mean_squared_error(test_y, y))\n",
        "    print('dummy MSE:', mean_squared_error(test_y[HIST:], test_y[HIST-1:-1]))\n",
        "    mselst.append(mean_squared_error(test_y, y))\n",
        "  return mean(mselst)"
      ],
      "metadata": {
        "id": "xQAgE7HeSGiH"
      },
      "execution_count": null,
      "outputs": []
    },
    {
      "cell_type": "code",
      "source": [
        "best_result = 100000000 ##tanh\n",
        "best_function = ''\n",
        "result = 0\n",
        "for i in range(len(functions)):\n",
        "  func = functions[i]\n",
        "  result = train1(func)\n",
        "  if result < best_result:\n",
        "    best_result = result\n",
        "    best_function = func\n",
        "\n",
        "print(best_result)\n",
        "print(best_function)"
      ],
      "metadata": {
        "id": "-97wNkWG2SOZ"
      },
      "execution_count": null,
      "outputs": []
    },
    {
      "cell_type": "code",
      "source": [
        "best_result = 100000000 ##tanh, relu, tanh\n",
        "best_functions = []\n",
        "result = 0\n",
        "for i in range(10):\n",
        "  func1 = functions[random.randint(0,5)]\n",
        "  func2 = functions[random.randint(0,5)]\n",
        "  func3 = functions[random.randint(0,5)]\n",
        "  result = train2(func1,func2,func3)\n",
        "  if result < best_result:\n",
        "    best_result = result\n",
        "    best_functions = [func1, func2,func3]\n",
        "\n",
        "print(best_result)\n",
        "print(best_functions)"
      ],
      "metadata": {
        "id": "D9WHvQlBJL9Y"
      },
      "execution_count": null,
      "outputs": []
    },
    {
      "cell_type": "code",
      "source": [
        "#tanh tanh tanh vs tanh relu tanh: B B B\n",
        "result1 = train1('tanh')\n",
        "result2 = train2('tanh','relu','tanh')\n",
        "if(result1 < result2):\n",
        "  print('A')\n",
        "else:\n",
        "  print('B')"
      ],
      "metadata": {
        "id": "XwkWyPqgIkjA"
      },
      "execution_count": null,
      "outputs": []
    },
    {
      "cell_type": "code",
      "source": [
        "best_result = 100000000 ## Number testing\n",
        "best_numbers = []\n",
        "result = 0\n",
        "for i in range(10):\n",
        "  x = random.randint(50,150)\n",
        "  y = random.randint(0,50)\n",
        "  if i == 0:\n",
        "    x = 80\n",
        "    y= 32\n",
        "  if i == 1:\n",
        "    x=124\n",
        "    y=23\n",
        "  result = train3(x,y)\n",
        "  if result < best_result:\n",
        "    best_result = result\n",
        "    best_numbers = [x,y]\n",
        "\n",
        "print(best_result)\n",
        "print(best_numbers) ## 100,50  -> 80,32 -> 124,23 -> 111,42"
      ],
      "metadata": {
        "id": "8fW8uTzzSDc3"
      },
      "execution_count": null,
      "outputs": []
    }
  ],
  "metadata": {
    "colab": {
      "collapsed_sections": [],
      "provenance": [],
      "authorship_tag": "ABX9TyNhAs3+zZ4d07mFrTUmWiea",
      "include_colab_link": true
    },
    "kernelspec": {
      "display_name": "Python 3",
      "name": "python3"
    },
    "language_info": {
      "name": "python"
    }
  },
  "nbformat": 4,
  "nbformat_minor": 0
}